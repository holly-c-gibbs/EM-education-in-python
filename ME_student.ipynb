{
 "cells": [
  {
   "cell_type": "markdown",
   "metadata": {},
   "source": [
    "**Playing with Maxwell's Equations** / Holly C. Gibbs, Ph.D., Texas A&M University /\n",
    "BMEN 608: Biophotonics II\n",
    "\n",
    "Reference material:\n",
    "A Student's Guide to Maxwell's Equations by Daniel Fleisch /\n",
    "Linked pages"
   ]
  },
  {
   "cell_type": "markdown",
   "metadata": {},
   "source": [
    "Behold the Maxwell's equations! **WARNING:** Do not stare directly at their magnificent beauty. \n",
    "\n",
    "\\begin{align}\n",
    "    \\vec{\\nabla} \\cdot  \\vec{D} &= \\rho \\\\ \n",
    "    \\vec{\\nabla} \\cdot  \\vec{B} &= 0   \\\\ \n",
    "    \\vec{\\nabla} \\times \\vec{E} &= - \\frac{\\partial \\vec{B}}{\\partial t} \\label{eq:maxwell} \\\\\n",
    "    \\vec{\\nabla} \\times \\vec{H} &= \\vec{J} + \\frac{\\partial \\vec{D}}{\\partial t} \\,\n",
    "\\end{align}"
   ]
  },
  {
   "cell_type": "markdown",
   "metadata": {},
   "source": [
    "These equations describe the foundation of classical electromagnetism, classical meaning \"not-so-tiny-that-we-need-quantum-mechanics\" to approximate the behavior of electric and magnetic fields. To understand them, you need to know what each symbol represents. If you've forgotten these, a reasonable interactive/conceptual overview of both the physical quantities and the vector calculus operators can be found [here](http://www.maxwells-equations.com/). Don't neglect the differences between $\\vec{D}$ and $\\vec{E}$, which are related by the electric permitivitty, $\\epsilon$, and $\\vec{B}$ and $\\vec{H}$, which are related by the magnetic permeability, $\\mu$.  "
   ]
  },
  {
   "cell_type": "markdown",
   "metadata": {},
   "source": [
    "**Section 1: Gauss' Law**"
   ]
  },
  {
   "cell_type": "markdown",
   "metadata": {},
   "source": [
    "***Integral form.*** Let's play with these equations one at a time to get to know them. In fact, the above expressions are only one of myriad ways these relations can be written. \n",
    "The first is **Gauss' Law**. You were probably introduced to it during an introductory physics course in it's integral form, since you may not have known any vector calculus at the time. Here it is in free space.  \n",
    "\n",
    "\\begin{align}\n",
    "    \\int\\limits_S \\vec{E} \\cdot \\vec{dA} &= \\frac{q_{enclosed}}{\\epsilon_0} \n",
    "\\end{align}"
   ]
  },
  {
   "cell_type": "markdown",
   "metadata": {},
   "source": [
    "The above equation says that **if you add up all the electric field, $\\vec{E}$, over a surface the quantity is proportional to the charge inside the surface, $q_{enclosed}$**. The term $\\vec{dA}$ is just shorthand for $\\hat{n}\\times dA$, which means that prior to integration, $\\vec{E}$ is projected onto the surface normal vector, $\\hat{n}$ of the infinitesimally small area elements of the surface, $dA$. If you're going to use this equation, you should definitely choose a surface that is easy to integrate over!\n",
    "\n",
    "It's an important expression because it's generally easier for us to detect $\\vec{E}$, often by way of voltage, $V$, (recall $\\vec{E}$= -$\\nabla V$ for conservative fields), and use that information to calculate $q_{enclosed}$. It also makes a lot of sense, since electric fields, when not busy radiating through space as an electromagnetic wave, originate on positive charges and terminate on negative charges. \n",
    "\n",
    "[Here](https://phet.colorado.edu/sims/html/charges-and-fields/latest/charges-and-fields_en.html) is a webapp where you can play around with different configurations of point charges and see what $\\vec{E}$ looks like. The simplest example presented typically is that of a single point charge, $q$, and it's $\\vec{E}$ that radially-decreases as $1/r^2$. This relationship is typically presented with some reference to gravitational force, which also decreases as $1/r^2$.\n",
    "\n",
    "\\begin{align}\n",
    "    \\vec{E}  &= \\frac{1}{4 \\pi \\epsilon_0} \\frac{q}{r^2} \\hat{r}\n",
    "\\end{align}"
   ]
  },
  {
   "cell_type": "markdown",
   "metadata": {},
   "source": [
    "***Exercise 1.1*** In the cell below, write a python program to calculate and visualize the electric field, $\\vec{E}$, and scalar voltage potential field, $V$ from an electric dipole ($+q$,$-q$).  "
   ]
  },
  {
   "cell_type": "code",
   "execution_count": null,
   "metadata": {},
   "outputs": [],
   "source": []
  },
  {
   "cell_type": "markdown",
   "metadata": {},
   "source": [
    "**Notice in the solution that areas of high potential (red, positive charges) are sources of $\\vec{E}$ field lines that flow to areas of low potential (blue, negative charges). This is a visualization of the relationship $\\vec{E}$= -$\\nabla V$.** The visualization, though correct, certainly has some undesirable features. [Here](https://pythonmatplotlibtips.blogspot.com/2017/12/draw-beautiful-electric-field-lines.html) is a more elegant example if you'd like to geek out on the coding. \n",
    "\n",
    "***Discussion Questions.*** <br/>\n",
    "1. What happens if you make both charges positive? Negative? <br/> \n",
    "2. Move them farther apart or closer together? <br/>\n",
    "3. Any better options for dealing with the infinity at r=r_point? <br/>\n",
    "4. What would be a reasonable way to add more charges to the simulation? <br/>\n",
    "5. What if you change the permittivity? ($\\epsilon_r=\\epsilon$ / $\\epsilon_0$ for rubber is 7, for water is 80, for gold is 6.7) <br/>\n",
    "6. What does it mean that all relative permittivity are > 1? <br/>\n",
    "7. This is a static problem. What might happen if it is dynamic?"
   ]
  },
  {
   "cell_type": "markdown",
   "metadata": {},
   "source": [
    "***Side note.*** The electric dipole will be an important concept later when we talk about waves and how electromagnetic waves induce electric dipoles in materials they propagate through. "
   ]
  },
  {
   "cell_type": "markdown",
   "metadata": {},
   "source": [
    "***To the derivative form of Gauss' Law.*** Now, if you wanted, you could write this tiny simulation in three dimensions with spherical coordinates (I might just for fun!), but perhaps you have wondered where this expression for the field of a point charge comes from in the first place. Well, if you evaluate the integral form of Gauss' Law, choosing a sphere as your Gaussian surface to place around the charge, your integral will simply produce the surface area of a sphere multiplied by a factor of $q_{enclosed}$/$\\epsilon_0$. That is how we know the field of a point charge, aside from experimental measurement.  \n",
    "\n"
   ]
  },
  {
   "cell_type": "markdown",
   "metadata": {},
   "source": [
    "The concept of divergence was introduced to do away with the concept of flux through imaginary surfaces and just worry about the flux at individual points in space (fields). To So, of course the definition of divergence of a vector field, $\\vec{A}$ includes taking the limit of the flux integral as $\\Delta v \\to 0$.\n",
    "\n",
    "\\begin{align}\n",
    "    \\vec{\\nabla} \\cdot \\vec{A} \\equiv \\lim\\limits_{\\Delta v \\to 0} \\int\\limits_S \\vec{A} \\cdot \\vec{dA} \n",
    "\\end{align}"
   ]
  },
  {
   "cell_type": "markdown",
   "metadata": {},
   "source": [
    "If we take take the limit as $\\Delta v \\to 0$ for the right hand side of the integral form of Gauss' Law as well (really, we are applying the Divergence Theorem), we will have the definition of charge density, $\\rho$, divided by $\\epsilon_0$. So, the way Gauss' law will now look is:\n",
    "\n",
    "\\begin{align}\n",
    "\\vec{\\nabla} \\cdot  \\vec{E} &= \\frac{\\rho}{\\epsilon_0} \n",
    "\\end{align}\n"
   ]
  },
  {
   "cell_type": "markdown",
   "metadata": {},
   "source": [
    "The above expression is very close to the original Gauss' Law we presented. To recover that expression, we need only realize that $\\vec{D} = \\epsilon \\vec{E}$, and since we have been discussing point charges in free space, $\\vec{D} = \\epsilon_0 \\vec{E}$. So, we have:\n",
    "\n",
    "\\begin{align}\n",
    "    \\vec{\\nabla} \\cdot  \\vec{D} &= \\rho \\\\ \n",
    "\\end{align}"
   ]
  },
  {
   "cell_type": "markdown",
   "metadata": {},
   "source": [
    "A good way to read this expression is to say that **charges in space give rise to electric fields with non-zero divergence**. Where exactly in the fields is the divergence non-zero? At the location of the charges. It will be positive (by convention) where there are positive charges and negative where there are negative charges. \n",
    "\n",
    "***Exercise 2.1*** In the cell below, develop a python program that will do the opposite of Exercise 1, that is, from a given potential field $V$, find $\\vec{E}$ and $\\rho$. You can use a symbolic libray (eg. SymPy) if you like. "
   ]
  },
  {
   "cell_type": "code",
   "execution_count": null,
   "metadata": {},
   "outputs": [],
   "source": []
  },
  {
   "cell_type": "markdown",
   "metadata": {},
   "source": [
    "In this example I chose a line of charge, knowing the function of the voltage a priori from analytical solution with Gauss' Law. \n",
    "\n",
    "***Discussion Questions.*** <br/>\n",
    "1. How did you choose how to represent $V$? <br/> \n",
    "2. What approach did you take to finding $\\vec{E}$? <br/>\n",
    "3. Does the description you found for $\\rho$ make sense? \n"
   ]
  },
  {
   "cell_type": "markdown",
   "metadata": {},
   "source": [
    "**Section 2: Gauss' Law for Magnetism**"
   ]
  },
  {
   "cell_type": "markdown",
   "metadata": {},
   "source": [
    "The same discussion of integral v. derivative form we had for Gauss' Law (for Electricity) applies for Gauss' Law for Magnetism. What it implies is that **you will never find a point in space (free space or in any material) that has more or less magnetic field going in than going out, which means there is no such thing as magnetic north particles and magnetic south particles.** \n",
    "\n",
    "\\begin{align}\n",
    "\\vec{\\nabla} \\cdot  \\vec{B} &= 0   \\\\ \n",
    "\\end{align}"
   ]
  },
  {
   "cell_type": "markdown",
   "metadata": {},
   "source": [
    "***Exercise 2.1*** In the cell below, visualize the vector field $\\vec{A} = \\sin(\\frac{\\pi}{2}y)\\hat{i} - \\sin(\\frac{\\pi}{2}x)\\hat{j}$ and calculate its divergence. "
   ]
  },
  {
   "cell_type": "code",
   "execution_count": null,
   "metadata": {},
   "outputs": [],
   "source": []
  },
  {
   "cell_type": "markdown",
   "metadata": {},
   "source": [
    "***Discussion Questions.*** <br/>\n",
    "1. What does it mean that this field has no divergence? <br/> \n",
    "2. What are some examples of fields that behave like this? <br/>\n",
    "3. Go back and also take the curl of the field. <br/>\n",
    "4. Where is the curl non-zero? <br/>\n",
    "5. What is the direction the curl is pointing and why? <br/>\n",
    "6. In the case of a magnetic field, where would you expect the curl to be non-zero? <br/>\n",
    "\n",
    "Even though fundamental magnetic particles don't exist, we know magnetic fields come from somewhere. We'll talk about the sources of magnetic fields (moving charge and displacement current) in Section 4 on the Ampere-Maxwell Law. "
   ]
  },
  {
   "cell_type": "markdown",
   "metadata": {},
   "source": [
    "**Section 3: Faraday's Law**"
   ]
  },
  {
   "cell_type": "markdown",
   "metadata": {},
   "source": [
    "***Integral form.*** We are moving now to the dynamic part of Maxwell's equations where fields that vary as a function of time produce other fields. Michael Faraday discovered this phenomenon experimentally when he produced a time-varying magnetic field inside an electric coil. You can try a virtual version of his experiment [here](https://micro.magnet.fsu.edu/electromag/java/faraday/). Maxwell later formalized the mathematical nature of the induction of electricity by magnetism observed by Faraday into a physical law, represented in integral form below. \n",
    "\n",
    "\\begin{align}\n",
    "    \\int\\limits_C \\vec{E} \\cdot \\vec{dl} &= -\\int\\limits_S \\frac{\\partial \\vec{B}}{\\partial t}  \\cdot \\vec{dS}\n",
    "\\end{align}\n",
    "\n",
    "The lefthand side of the above equation describes the sum of an electric field around a closed curve. A potentially relevant curve is a coil of wire. If such a conductive coil had an electric field circulating in it, that would drive a current through the coil according to the relationship $\\vec{J}=\\sigma\\vec{E}$. The right hand side of the equation describes the rate of change in time of the flux of magnetic field through the surface, $S$ enclosed by curve $C$. \n",
    "\n",
    "***Exercise 3.1*** Examine this interactive [experiment](https://micro.magnet.fsu.edu/electromag/java/faraday2/) and answer the following questions.\n",
    "\n",
    "***Discussion Questions.*** <br/>\n",
    "1. How is a current induced in the coil? <br/> \n",
    "2. Explain the sign of the induced current (hint: recall Lenz' Law) <br/>\n",
    "3. Explain the magnitude of the induced current. <br/>\n",
    "4. What else could be changed abou the experiment to change the magnetic flux through the loop as a function of time? <br/>"
   ]
  },
  {
   "cell_type": "markdown",
   "metadata": {},
   "source": [
    "***Derivative form.*** In Biophotonics, we'll often be more interested in how much $\\vec{E}$ is circulating around each point in space rather than around a specific loop, so we'd like to have this quantity expressed as a field. The operator for this is the curl operator, is defined as:\n",
    "\n",
    "\\begin{align}\n",
    "\\vec{\\nabla} \\times \\vec{A} \\cdot \\hat{n} \\equiv \\lim\\limits_{\\Delta s \\to 0} \\frac{1}{\\Delta s}\\int\\limits_C \\vec{A} \\cdot \\vec{dl} \n",
    "\\end{align}\n",
    "\n",
    "The equation above says that the curl of a vector field $\\vec{A}$ is the circulation per unit area along an infinitesimal path, with $\\hat{n}$ pointing in the direction that the circulation is maximized. Here we should also mention Stoke's theorem that says:\n",
    "\n",
    "\\begin{align}\n",
    "\\int\\limits_C \\vec{A} \\cdot \\vec{dl} = \\int\\limits_S (\\vec{\\nabla} \\times \\vec{A})\\cdot \\vec{dS}\n",
    "\\end{align}\n",
    "\n",
    "Using Stoke's theorem to represent the left hand side of Faraday's law, we will have the relationship:\n",
    "\n",
    "\\begin{align}\n",
    "\\int\\limits_S (\\vec{\\nabla} \\times \\vec{E})\\cdot \\vec{dS} = -\\int\\limits_S \\frac{\\partial \\vec{B}}{\\partial t}  \\cdot \\vec{dS}\n",
    "\\end{align}\n",
    "\n",
    "Then by integrating both sides over the surface, we are led back to the form we have already seen:\n",
    "\n",
    "\\begin{align}\n",
    "\\vec{\\nabla} \\times \\vec{E} &= - \\frac{\\partial \\vec{B}}{\\partial t} \n",
    "\\end{align}\n",
    "\n",
    "This expression, which says that **a time-varying magnetic field produces a (n orthogonal) electric field is critical for the propagation of electromagnetic waves.** "
   ]
  },
  {
   "cell_type": "markdown",
   "metadata": {},
   "source": [
    "***Exercise 3.2*** Given the magnetic field $\\vec{B}(t) = B_0\\cos(kz-\\omega t)\\hat{j}$, and a priori knowledge that $E_z=0$, find $E_x$. You can use python or work the problem by hand, but graph the results in python."
   ]
  },
  {
   "cell_type": "code",
   "execution_count": null,
   "metadata": {},
   "outputs": [],
   "source": []
  },
  {
   "cell_type": "markdown",
   "metadata": {},
   "source": [
    "**Section 4: Ampere-Maxwell Law**"
   ]
  },
  {
   "cell_type": "markdown",
   "metadata": {},
   "source": [
    "***Integral form.*** The last of Maxwell's equations describes how currents, both real and imagined, give rise to magnetic fields. I say \"real current\" in the sense of moving charged particles. By \"imagined current\", I mean a physical quantity that is not strictly a current (but is certainly not imaginary) but is rather a moving (time-varying) electric field which is referred to as displacement current. "
   ]
  },
  {
   "cell_type": "markdown",
   "metadata": {},
   "source": [
    "\\begin{align}\n",
    "    \\int\\limits_C \\vec{B}\\cdot\\vec{dl} = \\mu_0(I_{enc} + \\epsilon_0\\frac{\\partial}{\\partial t}\\int\\limits_S\\vec{E}\\cdot\\vec{dA}) \n",
    "\\end{align}"
   ]
  },
  {
   "cell_type": "markdown",
   "metadata": {},
   "source": [
    "Usually this law is introduced initially worrying only about the contribution of current, $I_{enc}$, as a source of magnetic fields, $\\vec{B}$, as historically this was the first part of the law to be understood. [Here](https://sites.google.com/a/nd.edu/nd-physics-demo-website/about/magnetic-fields-and-forces/magnetic-field-around-a-current-carrying-wire) you can see a recreation of the way in which it was discovered that currents that flow in wires create curling magnetic fields around them. "
   ]
  },
  {
   "cell_type": "markdown",
   "metadata": {},
   "source": [
    "***Exercise 4.1*** Find a mathematical expression for the magnetic field around a current carrying wire and rework exercise 2.1 with this field.  "
   ]
  },
  {
   "cell_type": "code",
   "execution_count": null,
   "metadata": {},
   "outputs": [],
   "source": []
  },
  {
   "cell_type": "markdown",
   "metadata": {},
   "source": [
    "In Exercise 4.1 you will hopefully have arrived at the expression $\\vec{B} = \\frac{\\mu_0 I_{enc}}{2\\pi r}\\hat{\\theta}$ where $\\hat{\\theta}$ is orthogonal to $\\hat{z}$ and $\\hat{r}$ which describe the direction of current flow and radius from the wire, respectively. The magnitude of $\\vec{B}$ will be highest close to the wire and decrease in magnitude as $1/r$. Hopefully you haven't forgotten that this field will exhert a force on moving charged particles (recall the Lorentz force equation $\\vec{F}=q(\\vec{E}+v\\times\\vec{B})$. What would happen with two wires near each other carrying a current? For a reminder, watch [this](https://www.youtube.com/watch?v=43AeuDvWc0k) video. "
   ]
  },
  {
   "cell_type": "markdown",
   "metadata": {},
   "source": [
    "***Toward the derivative version of the Ampere-Maxwell Law.*** There are different ways to show that this law is incomplete without the time-varying field component. One way is to demonstrate that I can draw a curve around a current-carrying wire but place the surface bound to that curve in the middle of a capacitor. The current through the surface, by the strict definition of moving charge, is zero, but the magnetic field is not. Something is missing. Another way is evident from what we know about vector calculus and conservation of charge. With a similar approach to how we went from integral to derivative from of Faraday's law, we can show that   \n",
    "\n",
    "\\begin{align}\n",
    "    \\int\\limits_C \\vec{B}\\cdot\\vec{dl} = \\mu_0 I_{enc} \n",
    "\\end{align}\n",
    "\n",
    "is equivalent to \n",
    "\n",
    "\\begin{align}\n",
    "\\vec{\\nabla} \\times \\vec{H} &= \\vec{J} \n",
    "\\end{align}\n",
    "\n",
    "where $\\vec{J}$ is the current density (of which the sum over an area is $I_{enc}$) and $\\vec{H}=\\frac{\\vec{B}}{\\mu_0}$, and $\\mu_0$ is the permeability of free space. Maxwell noticed a curious problem when you take the divergence of both sides of this equation (Recall that the divergence of the curl of a vector field is zero).\n",
    "\n",
    "\\begin{align}\n",
    "\\vec{\\nabla} \\cdot (\\vec{\\nabla} \\times \\vec{H}) &= \\vec{\\nabla} \\cdot \\vec{J} = 0\n",
    "\\end{align}\n",
    "\n",
    "Everyone acknowledged that $\\vec{\\nabla} \\cdot \\vec{J} = 0$ was wrong because of conservation of charge which predicts the continuity equation which states \n",
    "\n",
    "\\begin{align}\n",
    "\\vec{\\nabla} \\cdot \\vec{J} = - \\frac{\\partial \\vec{\\rho}}{\\partial t} \n",
    "\\end{align}\n",
    "\n",
    "that is, that current flows from points where the charge density changes as a function of time and flow out is the same as the flow in. Maxwell proposed the missing term was the variation in the electric displacement field as a function of time and added it accordingly, giving us\n",
    "\n",
    "\\begin{align}\n",
    "\\vec{\\nabla} \\times \\vec{H} &= \\vec{J} + \\frac{\\partial \\vec{D}}{\\partial t}\n",
    "\\end{align}\n",
    "\n",
    "He had many skeptics until this extra term led him to a wave-like solution to the larger set of equations that predicted the wave would travel with the same speed as the speed that had been measured for light. This astounding prediction won most over to Maxwell's displacement current term and the theory that light was electromagnetic radiation.\n"
   ]
  }
 ],
 "metadata": {
  "kernelspec": {
   "display_name": "Python 3",
   "language": "python",
   "name": "python3"
  },
  "language_info": {
   "codemirror_mode": {
    "name": "ipython",
    "version": 3
   },
   "file_extension": ".py",
   "mimetype": "text/x-python",
   "name": "python",
   "nbconvert_exporter": "python",
   "pygments_lexer": "ipython3",
   "version": "3.7.3"
  }
 },
 "nbformat": 4,
 "nbformat_minor": 2
}
